{
 "cells": [
  {
   "cell_type": "code",
   "execution_count": 2,
   "id": "a6a3d769-c621-402a-9bbb-e75d577f8276",
   "metadata": {},
   "outputs": [
    {
     "name": "stdout",
     "output_type": "stream",
     "text": [
      "2.5849853457818157\n"
     ]
    }
   ],
   "source": [
    "import numpy as np\n",
    "\n",
    "def entropy(p):\n",
    "    E = 0\n",
    "    for i in range(len(p)):\n",
    "        E += -(p[i])*np.log2(p[i])\n",
    "    return E\n",
    "p = [0.16667,0.16667,0.16667,0.16667,0.16667,0.16667]\n",
    "print(entropy(p))"
   ]
  },
  {
   "cell_type": "code",
   "execution_count": 2,
   "id": "a29c7f24-b24d-480c-a32a-fea870c684c4",
   "metadata": {},
   "outputs": [
    {
     "name": "stdout",
     "output_type": "stream",
     "text": [
      "Counter({1: 3, 2: 3, 3: 2, 4: 2, 5: 2})\n",
      "[0.25, 0.25, 0.16666666666666666, 0.16666666666666666, 0.16666666666666666]\n"
     ]
    }
   ],
   "source": [
    "from collections import Counter\n",
    "data = [1,1,1,2,3,4,5,2,2,3,4,5]\n",
    "count = Counter(data)\n",
    "print(count)\n",
    "n = len(data)\n",
    "p = [cnt/n for cnt in count.values()]\n",
    "print(p)"
   ]
  },
  {
   "cell_type": "code",
   "execution_count": 4,
   "id": "c8037633-bd08-444b-9a6b-c464b24df35f",
   "metadata": {},
   "outputs": [
    {
     "name": "stdout",
     "output_type": "stream",
     "text": [
      "2.292481250360578\n"
     ]
    }
   ],
   "source": [
    "print(entropy(p))"
   ]
  },
  {
   "cell_type": "code",
   "execution_count": 9,
   "id": "38c04524-0687-45fb-ac46-940be319c382",
   "metadata": {},
   "outputs": [
    {
     "name": "stdout",
     "output_type": "stream",
     "text": [
      "Entropy: 1.0\n",
      "Entropy of Iris dataset (binary classification): 0.9182958340544894\n"
     ]
    }
   ],
   "source": [
    "from scipy.stats import entropy\n",
    "from sklearn import datasets\n",
    "import numpy as np\n",
    "p = [0.5, 0.5]\n",
    "ent = entropy(p, base=2)\n",
    "print(\"Entropy:\", ent)\n",
    "\n",
    "iris = datasets.load_iris()\n",
    "X = iris.data\n",
    "y = (iris.target != 0).astype(int)\n",
    "y_entropy = entropy(np.bincount(y), base=2)\n",
    "print(\"Entropy of Iris dataset (binary classification):\", y_entropy)"
   ]
  }
 ],
 "metadata": {
  "kernelspec": {
   "display_name": "psgill",
   "language": "python",
   "name": "psgill"
  },
  "language_info": {
   "codemirror_mode": {
    "name": "ipython",
    "version": 3
   },
   "file_extension": ".py",
   "mimetype": "text/x-python",
   "name": "python",
   "nbconvert_exporter": "python",
   "pygments_lexer": "ipython3",
   "version": "3.12.0"
  }
 },
 "nbformat": 4,
 "nbformat_minor": 5
}
